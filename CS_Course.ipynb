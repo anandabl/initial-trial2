{
 "cells": [
  {
   "cell_type": "code",
   "execution_count": 1,
   "id": "29daf7b0-4349-4a33-8bf7-99f279fcb064",
   "metadata": {
    "tags": []
   },
   "outputs": [
    {
     "name": "stdout",
     "output_type": "stream",
     "text": [
      "Requirement already satisfied: numpy in c:\\users\\bananda\\appdata\\local\\anaconda3\\lib\\site-packages (1.24.3)\n"
     ]
    }
   ],
   "source": [
    "! pip install numpy"
   ]
  },
  {
   "cell_type": "code",
   "execution_count": 2,
   "id": "3ebfee88-03dd-487e-bb8f-5686c25501ee",
   "metadata": {
    "tags": []
   },
   "outputs": [
    {
     "data": {
      "text/plain": [
       "4"
      ]
     },
     "execution_count": 2,
     "metadata": {},
     "output_type": "execute_result"
    }
   ],
   "source": [
    "2+2\n"
   ]
  },
  {
   "cell_type": "code",
   "execution_count": 3,
   "id": "02016a63-a6ea-42d0-8b3d-060467f3fc6e",
   "metadata": {
    "tags": []
   },
   "outputs": [
    {
     "name": "stdout",
     "output_type": "stream",
     "text": [
      "Requirement already satisfied: plotly in c:\\users\\bananda\\appdata\\local\\anaconda3\\lib\\site-packages (5.9.0)\n",
      "Requirement already satisfied: tenacity>=6.2.0 in c:\\users\\bananda\\appdata\\local\\anaconda3\\lib\\site-packages (from plotly) (8.2.2)\n"
     ]
    }
   ],
   "source": [
    "! pip install plotly"
   ]
  },
  {
   "cell_type": "code",
   "execution_count": 4,
   "id": "bc8f47ab-99e3-45df-a318-0781cfb4aa2a",
   "metadata": {
    "tags": []
   },
   "outputs": [
    {
     "name": "stdout",
     "output_type": "stream",
     "text": [
      "Requirement already satisfied: pandas in c:\\users\\bananda\\appdata\\local\\anaconda3\\lib\\site-packages (1.5.3)\n",
      "Requirement already satisfied: python-dateutil>=2.8.1 in c:\\users\\bananda\\appdata\\local\\anaconda3\\lib\\site-packages (from pandas) (2.8.2)\n",
      "Requirement already satisfied: pytz>=2020.1 in c:\\users\\bananda\\appdata\\local\\anaconda3\\lib\\site-packages (from pandas) (2022.7)\n",
      "Requirement already satisfied: numpy>=1.21.0 in c:\\users\\bananda\\appdata\\local\\anaconda3\\lib\\site-packages (from pandas) (1.24.3)\n",
      "Requirement already satisfied: six>=1.5 in c:\\users\\bananda\\appdata\\local\\anaconda3\\lib\\site-packages (from python-dateutil>=2.8.1->pandas) (1.16.0)\n"
     ]
    }
   ],
   "source": [
    "! pip install pandas"
   ]
  },
  {
   "cell_type": "code",
   "execution_count": 15,
   "id": "15c9f136-aa9d-4b37-bcc7-0c9e0e725f6a",
   "metadata": {
    "tags": []
   },
   "outputs": [
    {
     "name": "stdout",
     "output_type": "stream",
     "text": [
      "Not divisible by either 2 or 3\n"
     ]
    }
   ],
   "source": [
    "x=19\n",
    "\n",
    "if x%2 == 0:\n",
    "    if x%3 == 0:\n",
    "        print('Divisible by 2 and 3')\n",
    "    else:\n",
    "        print('Divisible by 2 and not by 3')\n",
    "elif x%3 == 0:\n",
    "    print('Divisible by 3 and not by 2')\n",
    "else:\n",
    "    print('Not divisible by either 2 or 3')"
   ]
  },
  {
   "cell_type": "markdown",
   "id": "b2be28ff-17f2-404a-ac08-eb7442f0bebb",
   "metadata": {},
   "source": [
    "**Finger exercise**: Write a program that examines three variables—x, y, and z—and \n",
    "prints the largest odd number among them. If none of them are odd, it should \n",
    "print a message to that effect."
   ]
  },
  {
   "cell_type": "code",
   "execution_count": 17,
   "id": "7ecfa2fb-49fe-4826-b10f-eec9e860b283",
   "metadata": {
    "tags": []
   },
   "outputs": [],
   "source": [
    "x=43\n",
    "y=56\n",
    "z=85"
   ]
  },
  {
   "cell_type": "code",
   "execution_count": 22,
   "id": "034c4af3-c2db-4e03-a016-3cccbf9be8e1",
   "metadata": {},
   "outputs": [
    {
     "name": "stdout",
     "output_type": "stream",
     "text": [
      "z is the largest odd number\n"
     ]
    }
   ],
   "source": [
    "if x>y:\n",
    "    if x%2 != 0:\n",
    "        if x>z:\n",
    "            print('x is the largest odd number')\n",
    "elif y>z:\n",
    "    if y%2 != 0:\n",
    "        print ('y is the largest odd number')\n",
    "elif z%2 != 0:\n",
    "        print('z is the largest odd number')"
   ]
  },
  {
   "cell_type": "code",
   "execution_count": 1,
   "id": "3b0671eb-4e8a-4280-abd8-ecc86af5a254",
   "metadata": {
    "tags": []
   },
   "outputs": [
    {
     "name": "stdout",
     "output_type": "stream",
     "text": [
      "Enter the value of x:  43\n",
      "Enter the value of y:  56\n",
      "Enter the value of z:  85\n"
     ]
    },
    {
     "name": "stdout",
     "output_type": "stream",
     "text": [
      "The largest odd number among x, y, and z is: 85\n"
     ]
    }
   ],
   "source": [
    "### Input three variables\n",
    "x = int(input(\"Enter the value of x: \"))\n",
    "y = int(input(\"Enter the value of y: \"))\n",
    "z = int(input(\"Enter the value of z: \"))\n",
    "\n",
    "# Initialize a variable to store the largest odd number found\n",
    "largest_odd = None\n",
    "\n",
    "# Check if x is odd and greater than the current largest_odd\n",
    "if x % 2 != 0 and (largest_odd is None or x > largest_odd):\n",
    "    largest_odd = x\n",
    "\n",
    "# Check if y is odd and greater than the current largest_odd\n",
    "if y % 2 != 0 and (largest_odd is None or y > largest_odd):\n",
    "    largest_odd = y\n",
    "\n",
    "# Check if z is odd and greater than the current largest_odd\n",
    "if z % 2 != 0 and (largest_odd is None or z > largest_odd):\n",
    "    largest_odd = z\n",
    "\n",
    "# Check if a largest odd number was found and print the result\n",
    "if largest_odd is not None:\n",
    "    print(\"The largest odd number among x, y, and z is:\", largest_odd)\n",
    "else:\n",
    "    print(\"None of the numbers x, y, and z are odd.\")\n"
   ]
  },
  {
   "cell_type": "code",
   "execution_count": 1,
   "id": "a0d5d6e6-ccd1-4cb6-8001-5b524e3a949f",
   "metadata": {},
   "outputs": [
    {
     "data": {
      "text/plain": [
       "'aa'"
      ]
     },
     "execution_count": 1,
     "metadata": {},
     "output_type": "execute_result"
    }
   ],
   "source": [
    "'a'*2"
   ]
  },
  {
   "cell_type": "code",
   "execution_count": 11,
   "id": "d45fb99c-ea90-45f6-9048-65b98b735a50",
   "metadata": {
    "tags": []
   },
   "outputs": [
    {
     "data": {
      "text/plain": [
       "'bcde'"
      ]
     },
     "execution_count": 11,
     "metadata": {},
     "output_type": "execute_result"
    }
   ],
   "source": [
    "'abcdefghi'[1:5]"
   ]
  },
  {
   "cell_type": "code",
   "execution_count": 20,
   "id": "ef753b4d-c9f3-43a6-aa2f-2c215603f31b",
   "metadata": {
    "tags": []
   },
   "outputs": [
    {
     "name": "stdout",
     "output_type": "stream",
     "text": [
      "Enter your name: George Washington\n"
     ]
    },
    {
     "name": "stdout",
     "output_type": "stream",
     "text": [
      "Are you really George Washington ?\n",
      "Are you really George Washington ?\n"
     ]
    }
   ],
   "source": [
    "name = input('Enter your name:') \n",
    "print('Are you really', name, '?')\n",
    "print('Are you really '+ name+' ?')"
   ]
  },
  {
   "cell_type": "code",
   "execution_count": 21,
   "id": "c3416ae6-3c62-437c-833a-6b0d378740a3",
   "metadata": {
    "tags": []
   },
   "outputs": [
    {
     "name": "stdout",
     "output_type": "stream",
     "text": [
      "Enter an int: 3\n"
     ]
    },
    {
     "name": "stdout",
     "output_type": "stream",
     "text": [
      "<class 'str'>\n"
     ]
    }
   ],
   "source": [
    "n = input('Enter an int:')\n",
    "print(type(n))"
   ]
  },
  {
   "cell_type": "code",
   "execution_count": 22,
   "id": "3b86a57e-34c0-4c76-95a8-95cb6a6d95e4",
   "metadata": {
    "tags": []
   },
   "outputs": [
    {
     "data": {
      "text/plain": [
       "'3333'"
      ]
     },
     "execution_count": 22,
     "metadata": {},
     "output_type": "execute_result"
    }
   ],
   "source": [
    "n*4"
   ]
  },
  {
   "cell_type": "code",
   "execution_count": 3,
   "id": "1612b032-5d1c-452a-a6f4-ef773d85ad34",
   "metadata": {},
   "outputs": [
    {
     "name": "stdout",
     "output_type": "stream",
     "text": [
      "How many times should I print the letter X?  2\n"
     ]
    },
    {
     "name": "stdout",
     "output_type": "stream",
     "text": [
      "XX\n"
     ]
    }
   ],
   "source": [
    "numXs = int(input('How many times should I print the letter X? '))\n",
    "toPrint = ''\n",
    "if numXs == 1:\n",
    " toPrint = 'X'\n",
    "\n",
    "elif numXs == 2:\n",
    " toPrint = 'XX'\n",
    "elif numXs == 3:\n",
    " toPrint = 'XXX'\n",
    "#...\n",
    "print(toPrint)"
   ]
  },
  {
   "cell_type": "code",
   "execution_count": 5,
   "id": "d3a8909f-0f8e-44d0-9ad5-6d4099f10209",
   "metadata": {
    "tags": []
   },
   "outputs": [
    {
     "name": "stdout",
     "output_type": "stream",
     "text": [
      "How many times should I print the letter X?  5\n"
     ]
    },
    {
     "name": "stdout",
     "output_type": "stream",
     "text": [
      "\n"
     ]
    }
   ],
   "source": [
    "numXs = int(input('How many times should I print the letter X? '))\n",
    "toPrint = ''\n",
    "#concatenate X to toPrint numXs times\n",
    "print(toPrint)"
   ]
  },
  {
   "cell_type": "code",
   "execution_count": 11,
   "id": "6202501f-e7fa-4f89-8030-f252776ae792",
   "metadata": {
    "tags": []
   },
   "outputs": [
    {
     "name": "stdout",
     "output_type": "stream",
     "text": [
      "3*3 = 9\n"
     ]
    }
   ],
   "source": [
    "# Square an integer, the hard way\n",
    "x = 3\n",
    "ans = 0\n",
    "itersLeft = x\n",
    "while (itersLeft != 0):\n",
    " ans = ans + x\n",
    " itersLeft = itersLeft - 1\n",
    "print(str(x) + '*' + str(x) + ' = ' + str(ans))\n"
   ]
  },
  {
   "cell_type": "code",
   "execution_count": 7,
   "id": "6bb0f305-7183-413b-839f-37d299fec5c8",
   "metadata": {
    "tags": []
   },
   "outputs": [
    {
     "data": {
      "text/plain": [
       "9"
      ]
     },
     "execution_count": 7,
     "metadata": {},
     "output_type": "execute_result"
    }
   ],
   "source": [
    "ans"
   ]
  },
  {
   "cell_type": "markdown",
   "id": "0c1d0e13-c7ac-44d2-8d5e-e2a0d8810a30",
   "metadata": {},
   "source": [
    "**Finger exercise**: Replace the comment in the following code with a while loop.\n",
    "numXs = int(input('How many times should I print the letter X? ')) \n",
    "\n",
    "toPrint = ''\n",
    "\n",
    "#concatenate X to toPrint numXs times\n",
    "\n",
    "print(toPrint)"
   ]
  },
  {
   "cell_type": "code",
   "execution_count": 1,
   "id": "3af82db7-6824-4258-9a4f-63f9baf7780d",
   "metadata": {},
   "outputs": [
    {
     "name": "stdout",
     "output_type": "stream",
     "text": [
      "Added third line for github\n"
     ]
    }
   ],
   "source": [
    "print(\"Added third line for github\")"
   ]
  },
  {
   "cell_type": "code",
   "execution_count": null,
   "id": "c94840ed",
   "metadata": {},
   "outputs": [],
   "source": []
  }
 ],
 "metadata": {
  "kernelspec": {
   "display_name": "Python 3",
   "language": "python",
   "name": "python3"
  },
  "language_info": {
   "codemirror_mode": {
    "name": "ipython",
    "version": 3
   },
   "file_extension": ".py",
   "mimetype": "text/x-python",
   "name": "python",
   "nbconvert_exporter": "python",
   "pygments_lexer": "ipython3",
   "version": "3.11.3"
  }
 },
 "nbformat": 4,
 "nbformat_minor": 5
}

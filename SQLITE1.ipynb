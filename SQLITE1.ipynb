{
  "cells": [
    {
      "cell_type": "markdown",
      "metadata": {
        "colab_type": "text",
        "id": "view-in-github"
      },
      "source": [
        "<a href=\"https://colab.research.google.com/github/anandabl/initial-trial/blob/master/SQLITE1.ipynb\" target=\"_parent\"><img src=\"https://colab.research.google.com/assets/colab-badge.svg\" alt=\"Open In Colab\"/></a>"
      ]
    },
    {
      "cell_type": "code",
      "execution_count": 1,
      "metadata": {
        "colab": {
          "base_uri": "https://localhost:8080/"
        },
        "id": "OywaSnAA7NNJ",
        "outputId": "72aa46d0-5366-45fc-9b6f-8d9719eece48"
      },
      "outputs": [
        {
          "name": "stdout",
          "output_type": "stream",
          "text": [
            "Collecting pymysql\n",
            "  Downloading PyMySQL-1.1.0-py3-none-any.whl (44 kB)\n",
            "\u001b[?25l     \u001b[90m━━━━━━━━━━━━━━━━━━━━━━━━━━━━━━━━━━━━━━━━\u001b[0m \u001b[32m0.0/44.8 kB\u001b[0m \u001b[31m?\u001b[0m eta \u001b[36m-:--:--\u001b[0m\r\u001b[2K     \u001b[90m━━━━━━━━━━━━━━━━━━━━━━━━━━━━━━━━━━━━━━━━\u001b[0m \u001b[32m44.8/44.8 kB\u001b[0m \u001b[31m1.6 MB/s\u001b[0m eta \u001b[36m0:00:00\u001b[0m\n",
            "\u001b[?25hInstalling collected packages: pymysql\n",
            "Successfully installed pymysql-1.1.0\n"
          ]
        }
      ],
      "source": [
        "!pip install pymysql"
      ]
    },
    {
      "cell_type": "code",
      "execution_count": 2,
      "metadata": {
        "id": "FJFxaTQy7Zcn"
      },
      "outputs": [],
      "source": [
        "%load_ext sql"
      ]
    },
    {
      "cell_type": "code",
      "execution_count": 3,
      "metadata": {
        "id": "MyPEKqzn7caD"
      },
      "outputs": [],
      "source": [
        "%sql sqlite:///chinook.db"
      ]
    },
    {
      "cell_type": "code",
      "execution_count": 4,
      "metadata": {
        "colab": {
          "base_uri": "https://localhost:8080/",
          "height": 425
        },
        "id": "UQ9OSlpF7mDg",
        "outputId": "08df177b-9aa5-456f-e9e4-8bff54e13776"
      },
      "outputs": [
        {
          "name": "stdout",
          "output_type": "stream",
          "text": [
            " * sqlite:///chinook.db\n",
            "Done.\n"
          ]
        },
        {
          "data": {
            "text/html": [
              "<table>\n",
              "    <thead>\n",
              "        <tr>\n",
              "            <th>CustomerId</th>\n",
              "            <th>FirstName</th>\n",
              "            <th>LastName</th>\n",
              "            <th>Company</th>\n",
              "            <th>Address</th>\n",
              "            <th>City</th>\n",
              "            <th>State</th>\n",
              "            <th>Country</th>\n",
              "            <th>PostalCode</th>\n",
              "            <th>Phone</th>\n",
              "            <th>Fax</th>\n",
              "            <th>Email</th>\n",
              "            <th>SupportRepId</th>\n",
              "        </tr>\n",
              "    </thead>\n",
              "    <tbody>\n",
              "        <tr>\n",
              "            <td>1</td>\n",
              "            <td>Luís</td>\n",
              "            <td>Gonçalves</td>\n",
              "            <td>Embraer - Empresa Brasileira de Aeronáutica S.A.</td>\n",
              "            <td>Av. Brigadeiro Faria Lima, 2170</td>\n",
              "            <td>São José dos Campos</td>\n",
              "            <td>SP</td>\n",
              "            <td>Brazil</td>\n",
              "            <td>12227-000</td>\n",
              "            <td>+55 (12) 3923-5555</td>\n",
              "            <td>+55 (12) 3923-5566</td>\n",
              "            <td>luisg@embraer.com.br</td>\n",
              "            <td>3</td>\n",
              "        </tr>\n",
              "        <tr>\n",
              "            <td>2</td>\n",
              "            <td>Leonie</td>\n",
              "            <td>Köhler</td>\n",
              "            <td>None</td>\n",
              "            <td>Theodor-Heuss-Straße 34</td>\n",
              "            <td>Stuttgart</td>\n",
              "            <td>None</td>\n",
              "            <td>Germany</td>\n",
              "            <td>70174</td>\n",
              "            <td>+49 0711 2842222</td>\n",
              "            <td>None</td>\n",
              "            <td>leonekohler@surfeu.de</td>\n",
              "            <td>5</td>\n",
              "        </tr>\n",
              "        <tr>\n",
              "            <td>3</td>\n",
              "            <td>François</td>\n",
              "            <td>Tremblay</td>\n",
              "            <td>None</td>\n",
              "            <td>1498 rue Bélanger</td>\n",
              "            <td>Montréal</td>\n",
              "            <td>QC</td>\n",
              "            <td>Canada</td>\n",
              "            <td>H2G 1A7</td>\n",
              "            <td>+1 (514) 721-4711</td>\n",
              "            <td>None</td>\n",
              "            <td>ftremblay@gmail.com</td>\n",
              "            <td>3</td>\n",
              "        </tr>\n",
              "        <tr>\n",
              "            <td>4</td>\n",
              "            <td>Bjørn</td>\n",
              "            <td>Hansen</td>\n",
              "            <td>None</td>\n",
              "            <td>Ullevålsveien 14</td>\n",
              "            <td>Oslo</td>\n",
              "            <td>None</td>\n",
              "            <td>Norway</td>\n",
              "            <td>0171</td>\n",
              "            <td>+47 22 44 22 22</td>\n",
              "            <td>None</td>\n",
              "            <td>bjorn.hansen@yahoo.no</td>\n",
              "            <td>4</td>\n",
              "        </tr>\n",
              "        <tr>\n",
              "            <td>5</td>\n",
              "            <td>František</td>\n",
              "            <td>Wichterlová</td>\n",
              "            <td>JetBrains s.r.o.</td>\n",
              "            <td>Klanova 9/506</td>\n",
              "            <td>Prague</td>\n",
              "            <td>None</td>\n",
              "            <td>Czech Republic</td>\n",
              "            <td>14700</td>\n",
              "            <td>+420 2 4172 5555</td>\n",
              "            <td>+420 2 4172 5555</td>\n",
              "            <td>frantisekw@jetbrains.com</td>\n",
              "            <td>4</td>\n",
              "        </tr>\n",
              "    </tbody>\n",
              "</table>"
            ],
            "text/plain": [
              "[(1, 'Luís', 'Gonçalves', 'Embraer - Empresa Brasileira de Aeronáutica S.A.', 'Av. Brigadeiro Faria Lima, 2170', 'São José dos Campos', 'SP', 'Brazil', '12227-000', '+55 (12) 3923-5555', '+55 (12) 3923-5566', 'luisg@embraer.com.br', 3),\n",
              " (2, 'Leonie', 'Köhler', None, 'Theodor-Heuss-Straße 34', 'Stuttgart', None, 'Germany', '70174', '+49 0711 2842222', None, 'leonekohler@surfeu.de', 5),\n",
              " (3, 'François', 'Tremblay', None, '1498 rue Bélanger', 'Montréal', 'QC', 'Canada', 'H2G 1A7', '+1 (514) 721-4711', None, 'ftremblay@gmail.com', 3),\n",
              " (4, 'Bjørn', 'Hansen', None, 'Ullevålsveien 14', 'Oslo', None, 'Norway', '0171', '+47 22 44 22 22', None, 'bjorn.hansen@yahoo.no', 4),\n",
              " (5, 'František', 'Wichterlová', 'JetBrains s.r.o.', 'Klanova 9/506', 'Prague', None, 'Czech Republic', '14700', '+420 2 4172 5555', '+420 2 4172 5555', 'frantisekw@jetbrains.com', 4)]"
            ]
          },
          "execution_count": 4,
          "metadata": {},
          "output_type": "execute_result"
        }
      ],
      "source": [
        "%%sql\n",
        "SELECT * FROM customers\n",
        "LIMIT 5"
      ]
    },
    {
      "cell_type": "code",
      "execution_count": 7,
      "metadata": {
        "colab": {
          "base_uri": "https://localhost:8080/",
          "height": 347
        },
        "id": "kCXRe20R7vsF",
        "outputId": "90d0741f-55aa-4d60-f978-f5085b672bb1"
      },
      "outputs": [
        {
          "name": "stdout",
          "output_type": "stream",
          "text": [
            " * sqlite:///chinook.db\n",
            "Done.\n"
          ]
        },
        {
          "data": {
            "text/html": [
              "<table>\n",
              "    <thead>\n",
              "        <tr>\n",
              "            <th>name</th>\n",
              "        </tr>\n",
              "    </thead>\n",
              "    <tbody>\n",
              "        <tr>\n",
              "            <td>albums</td>\n",
              "        </tr>\n",
              "        <tr>\n",
              "            <td>sqlite_sequence</td>\n",
              "        </tr>\n",
              "        <tr>\n",
              "            <td>artists</td>\n",
              "        </tr>\n",
              "        <tr>\n",
              "            <td>customers</td>\n",
              "        </tr>\n",
              "        <tr>\n",
              "            <td>employees</td>\n",
              "        </tr>\n",
              "        <tr>\n",
              "            <td>genres</td>\n",
              "        </tr>\n",
              "        <tr>\n",
              "            <td>invoices</td>\n",
              "        </tr>\n",
              "        <tr>\n",
              "            <td>invoice_items</td>\n",
              "        </tr>\n",
              "        <tr>\n",
              "            <td>media_types</td>\n",
              "        </tr>\n",
              "        <tr>\n",
              "            <td>playlists</td>\n",
              "        </tr>\n",
              "        <tr>\n",
              "            <td>playlist_track</td>\n",
              "        </tr>\n",
              "        <tr>\n",
              "            <td>tracks</td>\n",
              "        </tr>\n",
              "        <tr>\n",
              "            <td>sqlite_stat1</td>\n",
              "        </tr>\n",
              "    </tbody>\n",
              "</table>"
            ],
            "text/plain": [
              "[('albums',),\n",
              " ('sqlite_sequence',),\n",
              " ('artists',),\n",
              " ('customers',),\n",
              " ('employees',),\n",
              " ('genres',),\n",
              " ('invoices',),\n",
              " ('invoice_items',),\n",
              " ('media_types',),\n",
              " ('playlists',),\n",
              " ('playlist_track',),\n",
              " ('tracks',),\n",
              " ('sqlite_stat1',)]"
            ]
          },
          "execution_count": 7,
          "metadata": {},
          "output_type": "execute_result"
        }
      ],
      "source": [
        "%%sql\n",
        "SELECT name FROM sqlite_master WHERE type='table'"
      ]
    },
    {
      "cell_type": "code",
      "execution_count": 6,
      "metadata": {
        "colab": {
          "base_uri": "https://localhost:8080/",
          "height": 179
        },
        "id": "iVDCUKmU8KfY",
        "outputId": "294f60a8-fb13-40bf-e698-c1879dd8c183"
      },
      "outputs": [
        {
          "name": "stdout",
          "output_type": "stream",
          "text": [
            " * sqlite:///chinook.db\n",
            "Done.\n"
          ]
        },
        {
          "data": {
            "text/html": [
              "<table>\n",
              "    <thead>\n",
              "        <tr>\n",
              "            <th>AlbumId</th>\n",
              "            <th>Title</th>\n",
              "            <th>ArtistId</th>\n",
              "        </tr>\n",
              "    </thead>\n",
              "    <tbody>\n",
              "        <tr>\n",
              "            <td>1</td>\n",
              "            <td>For Those About To Rock We Salute You</td>\n",
              "            <td>1</td>\n",
              "        </tr>\n",
              "        <tr>\n",
              "            <td>2</td>\n",
              "            <td>Balls to the Wall</td>\n",
              "            <td>2</td>\n",
              "        </tr>\n",
              "        <tr>\n",
              "            <td>3</td>\n",
              "            <td>Restless and Wild</td>\n",
              "            <td>2</td>\n",
              "        </tr>\n",
              "        <tr>\n",
              "            <td>4</td>\n",
              "            <td>Let There Be Rock</td>\n",
              "            <td>1</td>\n",
              "        </tr>\n",
              "        <tr>\n",
              "            <td>5</td>\n",
              "            <td>Big Ones</td>\n",
              "            <td>3</td>\n",
              "        </tr>\n",
              "    </tbody>\n",
              "</table>"
            ],
            "text/plain": [
              "[(1, 'For Those About To Rock We Salute You', 1),\n",
              " (2, 'Balls to the Wall', 2),\n",
              " (3, 'Restless and Wild', 2),\n",
              " (4, 'Let There Be Rock', 1),\n",
              " (5, 'Big Ones', 3)]"
            ]
          },
          "execution_count": 6,
          "metadata": {},
          "output_type": "execute_result"
        }
      ],
      "source": [
        "%%sql\n",
        "SELECT * FROM albums\n",
        "LIMIT 5"
      ]
    },
    {
      "cell_type": "code",
      "execution_count": 1,
      "metadata": {
        "id": "eYV2kTar8oeK"
      },
      "outputs": [
        {
          "name": "stdout",
          "output_type": "stream",
          "text": [
            "Added fourth line for github\n"
          ]
        }
      ],
      "source": [
        "print(\"Added fourth line for github\")"
      ]
    },
    {
      "cell_type": "code",
      "execution_count": null,
      "metadata": {},
      "outputs": [],
      "source": []
    }
  ],
  "metadata": {
    "colab": {
      "authorship_tag": "ABX9TyPNI4A5j2zXvZzrjebgAlYb",
      "include_colab_link": true,
      "provenance": []
    },
    "kernelspec": {
      "display_name": "Python 3",
      "name": "python3"
    },
    "language_info": {
      "codemirror_mode": {
        "name": "ipython",
        "version": 3
      },
      "file_extension": ".py",
      "mimetype": "text/x-python",
      "name": "python",
      "nbconvert_exporter": "python",
      "pygments_lexer": "ipython3",
      "version": "3.11.3"
    }
  },
  "nbformat": 4,
  "nbformat_minor": 0
}
